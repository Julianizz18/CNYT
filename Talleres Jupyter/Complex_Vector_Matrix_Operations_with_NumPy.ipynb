import numpy as np

# Definir una matriz cuadrada de 2x2
matriz = np.array([[2, 3],  
                   [1, 4]])

# Crear un vector de tamaño 2
vector = np.array([5, 6])

# Realizar la multiplicación entre la matriz y el vector
resultado = np.dot(matriz, vector)

# Mostrar los valores obtenidos
print("Matriz:\n", matriz)
print("\nVector:\n", vector)
print("\nResultado de la multiplicación:\n", resultado)

# Definir dos vectores columna con números complejos
v1 = np.array([[2+3j], [5-4j], [1+1j]])  
v2 = np.array([[1-1j], [3+2j], [4-4j]])

# Suma de vectores
suma_vectores = v1 + v2

# Cambio de signo
negacion_v1 = -v1

# Multiplicación por un escalar complejo
escalar = 2 + 1j
producto_v1 = v1 * escalar

# Transposición
transpuesta_v1 = v1.T

# Matriz adjunta (transpuesta conjugada)
adjunta_v1 = v1.T.conj()

# Conjugado
conjugado_v1 = np.conjugate(v1)

print("\nSuma de vectores:\n", suma_vectores)
print("\nNegación de v1:\n", negacion_v1)
print("\nMultiplicación de v1 por escalar:\n", producto_v1)
print("\nTranspuesta de v1:\n", transpuesta_v1)
print("\nAdjunta de v1:\n", adjunta_v1)
print("\nConjugado de v1:\n", conjugado_v1)

# Definir dos matrices cuadradas 3x3 con números complejos
m1 = np.array([[2+3j, 4-1j, 0],  
               [1+1j, 3+3j, 5],  
               [4, 6-2j, 1-1j]])  

m2 = np.array([[1, 2+1j, 3-3j],  
               [0, -1+2j, 1-2j],  
               [3+3j, 2, 4+4j]])  

# Suma de matrices
suma_matrices = m1 + m2

# Inversión de signo
negacion_m1 = -m1

# Producto por un escalar
escalar = 0.5 + 0.5j
producto_m1 = m1 * escalar

# Conjugación
conjugado_m1 = np.conjugate(m1)

# Transposición
transpuesta_m1 = m1.T

# Matriz adjunta (transpuesta conjugada)
adjunta_m1 = m1.T.conj()

print("\nSuma de matrices:\n", suma_matrices)
print("\nNegación de m1:\n", negacion_m1)
print("\nMultiplicación de m1 por escalar:\n", producto_m1)
print("\nConjugado de m1:\n", conjugado_m1)
print("\nTranspuesta de m1:\n", transpuesta_m1)
print("\nAdjunta de m1:\n", adjunta_m1)

# Consultar las dimensiones de la matriz m1
dimensiones_m1 = m1.shape
print("\nDimensiones de m1:", dimensiones_m1)

# Producto de una matriz 3x3 con un vector columna 3x1
resultado_producto = np.dot(m1, v1)
print("\nResultado de la multiplicación de m1 con v1:\n", resultado_producto)
